{
 "cells": [
  {
   "cell_type": "markdown",
   "id": "d4517461-035e-43f2-ba91-e7fb91099eba",
   "metadata": {},
   "source": [
    "# Problem 1 : Take a variable x and print \"Even\" if the number is divisible by 2, otherwise print \"Odd\"."
   ]
  },
  {
   "cell_type": "code",
   "execution_count": 4,
   "id": "e2a231c2-3b17-4190-a64d-761ebd0dddf4",
   "metadata": {},
   "outputs": [
    {
     "name": "stdout",
     "output_type": "stream",
     "text": [
      "Odd\n"
     ]
    }
   ],
   "source": [
    "x = 7\n",
    "\n",
    "if(x%2 == 0):\n",
    "    print(\"Even\")\n",
    "else:\n",
    "    print(\"Odd\")"
   ]
  },
  {
   "cell_type": "markdown",
   "id": "9aba1bca-6ded-4740-a32c-aaaf09f01b5c",
   "metadata": {},
   "source": [
    "# Problem 2 : Take a variable y and print \"Grade A\" if y is greater than 90,\"Grade B\" if y is greater than 75 but less than or equall to 90,\"Garde C\" if y is greater than 60 but less than or equql to 75 and \"Grade F\" otherwise"
   ]
  },
  {
   "cell_type": "code",
   "execution_count": 5,
   "id": "cffb32d9-8191-47d2-bcad-02c89288d644",
   "metadata": {},
   "outputs": [
    {
     "name": "stdout",
     "output_type": "stream",
     "text": [
      "Grade C\n"
     ]
    }
   ],
   "source": [
    "y = 65\n",
    "\n",
    "if(y>90):\n",
    "    print(\"Grade A\")\n",
    "elif(y > 75 and y <= 90):\n",
    "    print(\"Grade B\")\n",
    "elif(y > 60 and y <= 75):\n",
    "    print(\"Grade C\")\n",
    "else:\n",
    "    print(\"Grade F\")"
   ]
  },
  {
   "cell_type": "code",
   "execution_count": null,
   "id": "f960afb3-15b9-4b9a-a8a4-f7fa3d7658fe",
   "metadata": {},
   "outputs": [],
   "source": []
  }
 ],
 "metadata": {
  "kernelspec": {
   "display_name": "Python 3 (ipykernel)",
   "language": "python",
   "name": "python3"
  },
  "language_info": {
   "codemirror_mode": {
    "name": "ipython",
    "version": 3
   },
   "file_extension": ".py",
   "mimetype": "text/x-python",
   "name": "python",
   "nbconvert_exporter": "python",
   "pygments_lexer": "ipython3",
   "version": "3.12.7"
  }
 },
 "nbformat": 4,
 "nbformat_minor": 5
}
