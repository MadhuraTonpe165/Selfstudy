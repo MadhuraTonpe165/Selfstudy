{
 "cells": [
  {
   "cell_type": "markdown",
   "id": "30991967-e811-49bc-81b9-e87c4a48192a",
   "metadata": {},
   "source": [
    "# Problem 1 : Write a for loop to print all the numbers between 10 and 50"
   ]
  },
  {
   "cell_type": "code",
   "execution_count": 5,
   "id": "62dab21b-a8c3-4778-952b-e2cd39a276d0",
   "metadata": {},
   "outputs": [
    {
     "name": "stdout",
     "output_type": "stream",
     "text": [
      "11\n",
      "12\n",
      "13\n",
      "14\n",
      "15\n",
      "16\n",
      "17\n",
      "18\n",
      "19\n",
      "20\n",
      "21\n",
      "22\n",
      "23\n",
      "24\n",
      "25\n",
      "26\n",
      "27\n",
      "28\n",
      "29\n",
      "30\n",
      "31\n",
      "32\n",
      "33\n",
      "34\n",
      "35\n",
      "36\n",
      "37\n",
      "38\n",
      "39\n",
      "40\n",
      "41\n",
      "42\n",
      "43\n",
      "44\n",
      "45\n",
      "46\n",
      "47\n",
      "48\n",
      "49\n"
     ]
    }
   ],
   "source": [
    "for i in range(11, 50):\n",
    "    print(i)"
   ]
  },
  {
   "cell_type": "markdown",
   "id": "a198e2e3-15e2-4969-928e-0a66e16220a5",
   "metadata": {},
   "source": [
    "# Problem 2 : Write a for loop to print all the odd numbers between 10 and 50"
   ]
  },
  {
   "cell_type": "code",
   "execution_count": 6,
   "id": "5ce794e5-2803-4e1f-a942-fe7bdbe3d796",
   "metadata": {},
   "outputs": [
    {
     "name": "stdout",
     "output_type": "stream",
     "text": [
      "11\n",
      "13\n",
      "15\n",
      "17\n",
      "19\n",
      "21\n",
      "23\n",
      "25\n",
      "27\n",
      "29\n",
      "31\n",
      "33\n",
      "35\n",
      "37\n",
      "39\n",
      "41\n",
      "43\n",
      "45\n",
      "47\n",
      "49\n"
     ]
    }
   ],
   "source": [
    "for i in range(11, 50):\n",
    "    if(i%2 != 0):\n",
    "        print(i)"
   ]
  },
  {
   "cell_type": "code",
   "execution_count": 7,
   "id": "68588fb1-2fa8-46b9-b085-34d688ecc0db",
   "metadata": {},
   "outputs": [
    {
     "name": "stdout",
     "output_type": "stream",
     "text": [
      "11\n",
      "13\n",
      "15\n",
      "17\n",
      "19\n",
      "21\n",
      "23\n",
      "25\n",
      "27\n",
      "29\n",
      "31\n",
      "33\n",
      "35\n",
      "37\n",
      "39\n",
      "41\n",
      "43\n",
      "45\n",
      "47\n",
      "49\n"
     ]
    }
   ],
   "source": [
    "for i in range(11, 50, 2):\n",
    "    print(i)"
   ]
  },
  {
   "cell_type": "markdown",
   "id": "c5f5ccf3-a78f-4b9c-88bf-a492b70d86cd",
   "metadata": {},
   "source": [
    "# Problem 3 : Write a while loop to print following series\n",
    "# 105, 98, 91, ...., 14,7"
   ]
  },
  {
   "cell_type": "code",
   "execution_count": 11,
   "id": "5d9139cd-b324-480a-9165-775e2de414ec",
   "metadata": {},
   "outputs": [
    {
     "name": "stdout",
     "output_type": "stream",
     "text": [
      "105\n",
      "98\n",
      "91\n",
      "84\n",
      "77\n",
      "70\n",
      "63\n",
      "56\n",
      "49\n",
      "42\n",
      "35\n",
      "28\n",
      "21\n",
      "14\n",
      "7\n"
     ]
    }
   ],
   "source": [
    "i = 105\n",
    "while i > 1:\n",
    "    print(i)\n",
    "    i -= 7"
   ]
  },
  {
   "cell_type": "markdown",
   "id": "b2a5b600-1846-4ae1-834e-4cc233d70ed8",
   "metadata": {},
   "source": [
    "# Problem 4 : Write a while loop to print sum of first 10 even numbers"
   ]
  },
  {
   "cell_type": "code",
   "execution_count": 23,
   "id": "41f44e96-8d17-432f-9745-9de9b2579431",
   "metadata": {},
   "outputs": [
    {
     "name": "stdout",
     "output_type": "stream",
     "text": [
      "Sum of even numbers :  110\n"
     ]
    }
   ],
   "source": [
    "num = 2\n",
    "i=0\n",
    "while (num <= 20):\n",
    "    i+=num\n",
    "    num += 2\n",
    "print(\"Sum of even numbers : \", i)"
   ]
  },
  {
   "cell_type": "markdown",
   "id": "15e09df7-df9d-4148-b2e7-a37294462a08",
   "metadata": {},
   "source": [
    "# Write a program to display the number names  of the digites of a number entered by user, for example if the number is 231 then outout should be TWO THREE ONE"
   ]
  },
  {
   "cell_type": "code",
   "execution_count": 42,
   "id": "b94afeb2-9231-4a76-ae2b-a45d9b2a64bc",
   "metadata": {},
   "outputs": [
    {
     "name": "stdout",
     "output_type": "stream",
     "text": [
      "231\n",
      "TWO\n",
      "THREE\n",
      "ONE\n"
     ]
    }
   ],
   "source": [
    "input = 231\n",
    "i = str(input)\n",
    "print(i)\n",
    "a = 0\n",
    "for iterator in i:\n",
    "    if(i[a] == '0'):\n",
    "        print(\"ZERO\")\n",
    "    elif(i[a] == '1'):\n",
    "        print(\"ONE\")\n",
    "    elif(i[a] == '2'):\n",
    "        print(\"TWO\")\n",
    "    elif(i[a] == '3'):\n",
    "        print(\"THREE\")\n",
    "    elif(i[a] == '4'):\n",
    "        print(\"FOUR\")\n",
    "    elif(i[a] == '5'):\n",
    "        print(\"FIVE\")\n",
    "    elif(i[a] == '6'):\n",
    "        print(\"SIX\")\n",
    "    elif(i[a] == '7'):\n",
    "        print(\"SEVEN\")\n",
    "    elif(i[a] == '8'):\n",
    "        print(\"EIGHT\")\n",
    "    elif(i[a] == '9'):\n",
    "        print(\"NINE\")\n",
    "    else:\n",
    "        break\n",
    "    a+=1\n",
    "    pass"
   ]
  },
  {
   "cell_type": "code",
   "execution_count": 44,
   "id": "266799d2-906c-49f5-a716-51198f0715c7",
   "metadata": {},
   "outputs": [
    {
     "ename": "TypeError",
     "evalue": "'int' object is not callable",
     "output_type": "error",
     "traceback": [
      "\u001b[1;31m---------------------------------------------------------------------------\u001b[0m",
      "\u001b[1;31mTypeError\u001b[0m                                 Traceback (most recent call last)",
      "Cell \u001b[1;32mIn[44], line 1\u001b[0m\n\u001b[1;32m----> 1\u001b[0m num1 \u001b[38;5;241m=\u001b[39m \u001b[38;5;28minput\u001b[39m(\u001b[38;5;124m\"\u001b[39m\u001b[38;5;124mEnter any number : \u001b[39m\u001b[38;5;124m\"\u001b[39m)\n\u001b[0;32m      2\u001b[0m L1 \u001b[38;5;241m=\u001b[39m \u001b[38;5;28mlist\u001b[39m(num1)\n\u001b[0;32m      3\u001b[0m L \u001b[38;5;241m=\u001b[39m \u001b[38;5;28mlen\u001b[39m(L1)\n",
      "\u001b[1;31mTypeError\u001b[0m: 'int' object is not callable"
     ]
    }
   ],
   "source": [
    "num1 = input(\"Enter any number : \")\n",
    "L1 = list(num1)\n",
    "L = len(L1)\n",
    "i = 0\n",
    "n = {\n",
    "    0 : \"Zero\",\n",
    "    1 : \"One\",\n",
    "    2 : \"Two\",\n",
    "    3 : \"Three\",\n",
    "    4 : \"Four\",\n",
    "    5 : \"Five\",\n",
    "    6 : \"Six\",\n",
    "    7 : \"Seven\",\n",
    "    8 : \"Eight\",\n",
    "    9 : \"Nine\"\n",
    "}\n",
    "\n",
    "while (i < L):\n",
    "    print(n[int(L1[i])], end = \" \")\n",
    "    i = i+1"
   ]
  },
  {
   "cell_type": "code",
   "execution_count": 46,
   "id": "616ee802-7512-4eb7-b54e-96a3e780e236",
   "metadata": {},
   "outputs": [
    {
     "name": "stdout",
     "output_type": "stream",
     "text": [
      "P\n",
      "Y\n",
      "T\n",
      "H\n",
      "O\n",
      "N\n"
     ]
    }
   ],
   "source": [
    "s = 'PYTHON'\n",
    "l1 = list(s)\n",
    "i = 0\n",
    "while i < len(l1):\n",
    "    print(l1[i])\n",
    "    i = i+1"
   ]
  },
  {
   "cell_type": "code",
   "execution_count": null,
   "id": "06d97e0b-2cab-4e15-93e6-6f3af1d1630f",
   "metadata": {},
   "outputs": [],
   "source": []
  }
 ],
 "metadata": {
  "kernelspec": {
   "display_name": "Python 3 (ipykernel)",
   "language": "python",
   "name": "python3"
  },
  "language_info": {
   "codemirror_mode": {
    "name": "ipython",
    "version": 3
   },
   "file_extension": ".py",
   "mimetype": "text/x-python",
   "name": "python",
   "nbconvert_exporter": "python",
   "pygments_lexer": "ipython3",
   "version": "3.12.7"
  }
 },
 "nbformat": 4,
 "nbformat_minor": 5
}
